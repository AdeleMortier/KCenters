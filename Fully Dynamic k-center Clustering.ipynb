{
 "cells": [
  {
   "cell_type": "markdown",
   "metadata": {},
   "source": [
    "# Fully Dynamic k-center Clustering"
   ]
  },
  {
   "cell_type": "markdown",
   "metadata": {},
   "source": [
    "## Parsing"
   ]
  },
  {
   "cell_type": "markdown",
   "metadata": {},
   "source": [
    "This section has to be runned only once; its role is to parse the data and create a .hdf5 dataset with three fields: one for the timestamp, one for the latitude, one for the longitude. We will use this file in the following sections."
   ]
  },
  {
   "cell_type": "code",
   "execution_count": 1,
   "metadata": {
    "collapsed": false
   },
   "outputs": [],
   "source": [
    "import h5py\n",
    "def parse_input(path):\n",
    "    dataset = h5py.File(\"dataset.hdf5\", \"w\")\n",
    "    timestamps = dataset.create_dataset(\"timestamps\", (1000000,), dtype='i')\n",
    "    latitudes = dataset.create_dataset(\"latitudes\", (1000000,), dtype='f')\n",
    "    longitudes = dataset.create_dataset(\"longitudes\", (1000000,), dtype='f')\n",
    "    f = open(path,'r')\n",
    "    for i, line in enumerate(f):\n",
    "        line = line.split()\n",
    "        timestamps[i] = int(line[0])\n",
    "        latitudes[i] = float(line[1])\n",
    "        longitudes[i] = float(line[2])\n",
    "    dataset.close()"
   ]
  },
  {
   "cell_type": "code",
   "execution_count": 2,
   "metadata": {
    "collapsed": false
   },
   "outputs": [],
   "source": [
    "parse_input('dataset/twitter_1000000.txt')"
   ]
  },
  {
   "cell_type": "markdown",
   "metadata": {},
   "source": [
    "## Data visualization"
   ]
  },
  {
   "cell_type": "markdown",
   "metadata": {},
   "source": [
    "Just to check that our geographical data look relevant, i.e that it \"coincides\" with a world map (at least on the part of the world that are conneted to Twitter!)"
   ]
  },
  {
   "cell_type": "code",
   "execution_count": 14,
   "metadata": {
    "collapsed": true
   },
   "outputs": [],
   "source": [
    "import h5py\n",
    "f = h5py.File('dataset.hdf5', 'r')"
   ]
  },
  {
   "cell_type": "code",
   "execution_count": 22,
   "metadata": {
    "collapsed": false
   },
   "outputs": [
    {
     "name": "stdout",
     "output_type": "stream",
     "text": [
      "0.375267 52.2639\n",
      "121.035 14.6517\n",
      "-61.2052 -27.2133\n",
      "101.691 3.05276\n",
      "12.3267 45.4386\n",
      "135.504 34.6802\n",
      "139.753 35.6544\n",
      "139.776 35.7133\n",
      "4.08333 48.3\n",
      "103.855 1.30046\n"
     ]
    }
   ],
   "source": [
    "timestamps = f['timestamps']\n",
    "latitudes = f['latitudes']\n",
    "longitudes = f['longitudes']\n",
    "for i in range(0, 10):\n",
    "    print(latitudes[i], longitudes[i])"
   ]
  },
  {
   "cell_type": "code",
   "execution_count": 24,
   "metadata": {
    "collapsed": false
   },
   "outputs": [
    {
     "name": "stdout",
     "output_type": "stream",
     "text": [
      "(0.37526667, 52.263897)\n",
      "(121.03524, 14.651666)\n",
      "(-61.205151, -27.213259)\n",
      "(101.69062, 3.0527644)\n",
      "(12.3267, 45.438599)\n",
      "(135.5036, 34.680218)\n",
      "(139.75256, 35.654442)\n",
      "(139.77625, 35.713306)\n",
      "(4.0833302, 48.299999)\n",
      "(103.85493, 1.300463)\n"
     ]
    }
   ],
   "source": [
    "dataset = list(zip(latitudes, longitudes))\n",
    "for i in range(0, 10):\n",
    "    print(dataset[i])"
   ]
  },
  {
   "cell_type": "code",
   "execution_count": 25,
   "metadata": {
    "collapsed": false
   },
   "outputs": [],
   "source": [
    "import numpy as np\n",
    "import matplotlib.pyplot as plt\n",
    "import random\n",
    "sample_dataset = random.sample(dataset, 4000)\n",
    "sample_latitudes = [sample[0] for sample in sample_dataset]\n",
    "sample_longitudes = [sample[1] for sample in sample_dataset]"
   ]
  },
  {
   "cell_type": "code",
   "execution_count": 26,
   "metadata": {
    "collapsed": false
   },
   "outputs": [
    {
     "data": {
      "image/png": "[encoded data removed]",
      "text/plain": [
       "<matplotlib.figure.Figure at 0x7f2fb4487588>"
      ]
     },
     "metadata": {},
     "output_type": "display_data"
    }
   ],
   "source": [
    "plt.scatter(sample_latitudes, sample_longitudes, s=7)\n",
    "plt.xlabel(\"Latitude\")\n",
    "plt.ylabel(\"Longitude\")\n",
    "plt.show()"
   ]
  },
  {
   "cell_type": "markdown",
   "metadata": {},
   "source": [
    "## Basic static algorithm "
   ]
  },
  {
   "cell_type": "markdown",
   "metadata": {},
   "source": [
    "### Definition of the metric"
   ]
  },
  {
   "cell_type": "code",
   "execution_count": 253,
   "metadata": {
    "collapsed": false
   },
   "outputs": [
    {
     "data": {
      "text/plain": [
       "12648.717426740657"
      ]
     },
     "execution_count": 253,
     "metadata": {},
     "output_type": "execute_result"
    }
   ],
   "source": [
    "def Haversine(point, neighbor):\n",
    "    lat1 = point[0]\n",
    "    lat2 = neighbor[0]\n",
    "    lon1 = point[1]\n",
    "    lon2 = neighbor[1]\n",
    "    R=6371000                             \n",
    "    phi_1=math.radians(lat1)\n",
    "    phi_2=math.radians(lat2)\n",
    "\n",
    "    delta_phi = math.radians(lat2 - lat1)\n",
    "    delta_lambda = math.radians(lon2 - lon1)\n",
    "\n",
    "    a = math.sin(delta_phi/2.0)**2 + math.cos(phi_1) * math.cos(phi_2) * math.sin(delta_lambda/2.0)**2\n",
    "    c = 2 * math.atan2(math.sqrt(a), math.sqrt(1 - a))\n",
    "        \n",
    "    return R*c/1000"
   ]
  },
  {
   "cell_type": "code",
   "execution_count": 258,
   "metadata": {
    "collapsed": false
   },
   "outputs": [
    {
     "data": {
      "text/plain": [
       "9483.092886325172"
      ]
     },
     "execution_count": 258,
     "metadata": {},
     "output_type": "execute_result"
    }
   ],
   "source": [
    "Haversine(dataset[0], dataset[1])\n",
    "Haversine(dataset[0], dataset[2])"
   ]
  },
  {
   "cell_type": "markdown",
   "metadata": {},
   "source": [
    "### Computation of the Betas"
   ]
  },
  {
   "cell_type": "code",
   "execution_count": 262,
   "metadata": {
    "collapsed": false
   },
   "outputs": [],
   "source": [
    "import numpy as np\n",
    "def max_and_min_dists(id_to_coords, sample):\n",
    "    max_dist = 0\n",
    "    min_dist = np.infty\n",
    "    n = len(sample)\n",
    "    for i in range(0, n-1):\n",
    "        point = id_to_coords[sample[i]]\n",
    "        for j in range(i+1, n):\n",
    "            neighbor = id_to_coords[sample[j]]\n",
    "            distance = euclidean(point, neighbor)\n",
    "            if distance > max_dist:\n",
    "                max_dist = distance\n",
    "            if distance < min_dist:\n",
    "                min_dist = distance\n",
    "    return max_dist, min_dist"
   ]
  },
  {
   "cell_type": "code",
   "execution_count": null,
   "metadata": {
    "collapsed": false
   },
   "outputs": [
    {
     "name": "stdout",
     "output_type": "stream",
     "text": [
      "computing on sample  0\n"
     ]
    }
   ],
   "source": [
    "maxima, minima = [], []\n",
    "for i in range(0, 10):\n",
    "    print('computing on sample ', i)\n",
    "    sample = random.sample(list(range(0, 1000000)), 10000)\n",
    "    maximum, minimum = max_and_min_dists(id_to_coords, sample)\n",
    "    maxima.append(maximum)\n",
    "    minima.append(minimum)\n",
    "print(max(maxima))\n",
    "print(min(minima))\n"
   ]
  },
  {
   "cell_type": "code",
   "execution_count": 261,
   "metadata": {
    "collapsed": false
   },
   "outputs": [
    {
     "name": "stdout",
     "output_type": "stream",
     "text": [
      "[0.0, 0.0, 0.0, 0.0, 0.0, 0.0, 0.0, 0.0, 0.0, 0.0]\n"
     ]
    }
   ],
   "source": [
    "print (minima)"
   ]
  },
  {
   "cell_type": "code",
   "execution_count": 34,
   "metadata": {
    "collapsed": true
   },
   "outputs": [],
   "source": [
    "import math\n",
    "id_to_coords = {i : point for i, point in enumerate(dataset)}\n",
    "\n",
    "def compute_betas(d_min, d_max, eps):\n",
    "    betas = []\n",
    "    i_min = math.ceil(math.log(d_min)/math.log(1+eps))\n",
    "    i_max = math.floor(math.log(d_max)/math.log(1+eps))\n",
    "    for i in range(i_min, i_max+1):\n",
    "        betas.append((1+eps)**i)\n",
    "    return betas"
   ]
  },
  {
   "cell_type": "code",
   "execution_count": 236,
   "metadata": {
    "collapsed": false
   },
   "outputs": [
    {
     "name": "stdout",
     "output_type": "stream",
     "text": [
      "minimum beta :  11.390625\n",
      "maximum beta :  291.92926025390625\n",
      "number of betas :  9\n"
     ]
    }
   ],
   "source": [
    "betas = compute_betas(10, 300, 0.5)\n",
    "print('minimum beta : ', betas[0])\n",
    "print('maximum beta : ', betas[-1])\n",
    "print('number of betas : ', len(betas))"
   ]
  },
  {
   "cell_type": "code",
   "execution_count": 221,
   "metadata": {
    "collapsed": false
   },
   "outputs": [],
   "source": [
    "from collections import defaultdict\n",
    "\n",
    "id_to_coords = {i : point for i, point in enumerate(dataset)}"
   ]
  },
  {
   "cell_type": "code",
   "execution_count": 222,
   "metadata": {
    "collapsed": false
   },
   "outputs": [],
   "source": [
    "from scipy.spatial.distance import euclidean\n",
    "\n",
    "def build_cluster(center_id, beta, dataset_ids, cluster_id, clusters):\n",
    "    center = id_to_coords[center_id]\n",
    "    clusters[center_id] = (1, cluster_id)\n",
    "    i = 0\n",
    "    print('building new cluster...')\n",
    "    while True:\n",
    "        if i >= len(dataset_ids):\n",
    "            break      \n",
    "        point_id = dataset_ids[i]\n",
    "        if point_id != center_id:\n",
    "            distance = euclidean(center, id_to_coords[point_id])\n",
    "            if distance <= 2*beta:\n",
    "                clusters[point_id] = (0, cluster_id)\n",
    "                dataset_ids.remove(point_id)\n",
    "            else:\n",
    "                i += 1\n",
    "        else:\n",
    "            dataset_ids.remove(point_id)\n",
    "    print(len(dataset_ids), 'points remain to be affected')\n",
    "    return dataset_ids, clusters"
   ]
  },
  {
   "cell_type": "code",
   "execution_count": 223,
   "metadata": {
    "collapsed": false
   },
   "outputs": [],
   "source": [
    "from copy import deepcopy\n",
    "\n",
    "def build_beta_clustering(k, beta, dataset_ids):\n",
    "    clusters = {}\n",
    "    d = deepcopy(dataset_ids)\n",
    "    for i in range(0, k):\n",
    "        if not d:\n",
    "            break\n",
    "        center_id = random.sample(dataset_ids, 1)[0]\n",
    "        d, clusters = build_cluster(center_id, beta, d, i, clusters)\n",
    "    if d:\n",
    "        for point_id in d:\n",
    "            clusters[point_id] = (0, -1)\n",
    "    return clusters"
   ]
  },
  {
   "cell_type": "code",
   "execution_count": 224,
   "metadata": {
    "collapsed": true
   },
   "outputs": [],
   "source": [
    "def build_whole_clustering(k, betas, dataset_ids):\n",
    "    clustering = {}\n",
    "    for beta in betas:\n",
    "        print('computing for beta = ', beta)\n",
    "        clusters = build_beta_clustering(k, beta, dataset_ids)\n",
    "        clustering[beta] = clusters\n",
    "    return clustering"
   ]
  },
  {
   "cell_type": "code",
   "execution_count": 233,
   "metadata": {
    "collapsed": false
   },
   "outputs": [
    {
     "name": "stdout",
     "output_type": "stream",
     "text": [
      "computing for beta =  10\n",
      "building new cluster...\n",
      "17654 points remain to be affected\n",
      "building new cluster...\n",
      "15395 points remain to be affected\n",
      "building new cluster...\n",
      "13020 points remain to be affected\n",
      "building new cluster...\n",
      "11017 points remain to be affected\n",
      "building new cluster...\n",
      "10070 points remain to be affected\n",
      "building new cluster...\n",
      "10069 points remain to be affected\n",
      "building new cluster...\n",
      "6412 points remain to be affected\n",
      "computing for beta =  15\n",
      "building new cluster...\n",
      "17152 points remain to be affected\n",
      "building new cluster...\n",
      "17152 points remain to be affected\n",
      "building new cluster...\n",
      "17152 points remain to be affected\n",
      "building new cluster...\n",
      "12271 points remain to be affected\n",
      "building new cluster...\n",
      "8419 points remain to be affected\n",
      "building new cluster...\n",
      "6851 points remain to be affected\n",
      "building new cluster...\n",
      "6703 points remain to be affected\n",
      "computing for beta =  20\n",
      "building new cluster...\n",
      "16084 points remain to be affected\n",
      "building new cluster...\n",
      "11200 points remain to be affected\n",
      "building new cluster...\n",
      "10344 points remain to be affected\n",
      "building new cluster...\n",
      "5595 points remain to be affected\n",
      "building new cluster...\n",
      "5595 points remain to be affected\n",
      "building new cluster...\n",
      "5559 points remain to be affected\n",
      "building new cluster...\n",
      "5558 points remain to be affected\n",
      "computing for beta =  25\n",
      "building new cluster...\n",
      "12588 points remain to be affected\n",
      "building new cluster...\n",
      "12526 points remain to be affected\n",
      "building new cluster...\n",
      "12526 points remain to be affected\n",
      "building new cluster...\n",
      "10450 points remain to be affected\n",
      "building new cluster...\n",
      "10449 points remain to be affected\n",
      "building new cluster...\n",
      "10446 points remain to be affected\n",
      "building new cluster...\n",
      "6062 points remain to be affected\n",
      "computing for beta =  30\n",
      "building new cluster...\n",
      "17213 points remain to be affected\n",
      "building new cluster...\n",
      "17213 points remain to be affected\n",
      "building new cluster...\n",
      "17015 points remain to be affected\n",
      "building new cluster...\n",
      "10434 points remain to be affected\n",
      "building new cluster...\n",
      "5523 points remain to be affected\n",
      "building new cluster...\n",
      "653 points remain to be affected\n",
      "building new cluster...\n",
      "653 points remain to be affected\n"
     ]
    }
   ],
   "source": [
    "clustering = build_whole_clustering(7, [10, 15, 20, 25, 30], random.sample(list(range(0, 1000000)), 20000))"
   ]
  },
  {
   "cell_type": "code",
   "execution_count": 234,
   "metadata": {
    "collapsed": false
   },
   "outputs": [
    {
     "data": {
      "text/plain": [
       "defaultdict(int,\n",
       "            {-1: 653, 0: 2784, 1: 1, 2: 199, 3: 6581, 4: 4911, 5: 4870, 6: 1})"
      ]
     },
     "execution_count": 234,
     "metadata": {},
     "output_type": "execute_result"
    }
   ],
   "source": [
    "clusters = clustering[30]\n",
    "c = defaultdict(int)\n",
    "for point_id, cluster in clusters.items():\n",
    "    c[cluster[1]] += 1\n",
    "c"
   ]
  },
  {
   "cell_type": "code",
   "execution_count": 235,
   "metadata": {
    "collapsed": false
   },
   "outputs": [
    {
     "data": {
      "image/png": "[encoded data removed]",
      "text/plain": [
       "<matplotlib.figure.Figure at 0x7f2fa2d09588>"
      ]
     },
     "metadata": {},
     "output_type": "display_data"
    }
   ],
   "source": [
    "i = 0\n",
    "counted = defaultdict(int)\n",
    "col = ['b', 'g', 'r', 'c', 'm', 'y', 'k'] \n",
    "for point_id, cluster in clusters.items():\n",
    "    if i > 1000 or counted[cluster[1]] > 100:\n",
    "        break\n",
    "    if cluster[1] !=  -1:\n",
    "        i+=1\n",
    "        counted[cluster[1]] +=1\n",
    "        point_coords = id_to_coords[point_id]\n",
    "        plt.scatter(point_coords[0], point_coords[1],s = 10, c = col[cluster[1]])\n",
    "\n",
    "plt.show()"
   ]
  },
  {
   "cell_type": "code",
   "execution_count": 228,
   "metadata": {
    "collapsed": false
   },
   "outputs": [],
   "source": []
  },
  {
   "cell_type": "code",
   "execution_count": null,
   "metadata": {
    "collapsed": true
   },
   "outputs": [],
   "source": []
  },
  {
   "cell_type": "code",
   "execution_count": null,
   "metadata": {
    "collapsed": true
   },
   "outputs": [],
   "source": []
  }
 ],
 "metadata": {
  "kernelspec": {
   "display_name": "Python 3",
   "language": "python",
   "name": "python3"
  },
  "language_info": {
   "codemirror_mode": {
    "name": "ipython",
    "version": 3
   },
   "file_extension": ".py",
   "mimetype": "text/x-python",
   "name": "python",
   "nbconvert_exporter": "python",
   "pygments_lexer": "ipython3",
   "version": "3.5.2"
  }
 },
 "nbformat": 4,
 "nbformat_minor": 2
}
