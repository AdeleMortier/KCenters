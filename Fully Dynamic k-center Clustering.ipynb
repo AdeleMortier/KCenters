{
 "cells": [
  {
   "cell_type": "markdown",
   "metadata": {},
   "source": [
    "# Fully Dynamic k-center Clustering"
   ]
  },
  {
   "cell_type": "markdown",
   "metadata": {},
   "source": [
    "## Parsing"
   ]
  },
  {
   "cell_type": "markdown",
   "metadata": {},
   "source": [
    "This section has to be runned only once; its role is to parse the data and create a .hdf5 dataset with three fields: one for the timestamp, one for the latitude, one for the longitude. We will use this file in the following sections."
   ]
  },
  {
   "cell_type": "code",
   "execution_count": 1,
   "metadata": {
    "collapsed": false
   },
   "outputs": [],
   "source": [
    "import h5py\n",
    "def parse_input(path):\n",
    "    dataset = h5py.File(\"dataset.hdf5\", \"w\")\n",
    "    timestamps = dataset.create_dataset(\"timestamps\", (1000000,), dtype='i')\n",
    "    latitudes = dataset.create_dataset(\"latitudes\", (1000000,), dtype='f')\n",
    "    longitudes = dataset.create_dataset(\"longitudes\", (1000000,), dtype='f')\n",
    "    f = open(path,'r')\n",
    "    for i, line in enumerate(f):\n",
    "        line = line.split()\n",
    "        timestamps[i] = int(line[0])\n",
    "        latitudes[i] = float(line[1])\n",
    "        longitudes[i] = float(line[2])\n",
    "    dataset.close()"
   ]
  },
  {
   "cell_type": "code",
   "execution_count": 2,
   "metadata": {
    "collapsed": false
   },
   "outputs": [],
   "source": [
    "parse_input('dataset/twitter_1000000.txt')"
   ]
  },
  {
   "cell_type": "markdown",
   "metadata": {},
   "source": [
    "## Data visualization"
   ]
  },
  {
   "cell_type": "markdown",
   "metadata": {},
   "source": [
    "Just to check that our geographical data look relevant, i.e that it \"coincides\" with a world map (at least on the part of the world that are conneted to Twitter!)"
   ]
  },
  {
   "cell_type": "code",
   "execution_count": 5,
   "metadata": {
    "collapsed": true
   },
   "outputs": [],
   "source": [
    "import h5py\n",
    "f = h5py.File('dataset.hdf5', 'r')"
   ]
  },
  {
   "cell_type": "code",
   "execution_count": 6,
   "metadata": {
    "collapsed": false
   },
   "outputs": [],
   "source": [
    "timestamps = f['timestamps']\n",
    "latitudes = f['latitudes']\n",
    "longitudes = f['longitudes']"
   ]
  },
  {
   "cell_type": "code",
   "execution_count": 40,
   "metadata": {
    "collapsed": false
   },
   "outputs": [
    {
     "name": "stdout",
     "output_type": "stream",
     "text": [
      "(0.37526667, 52.263897) 1000001\n"
     ]
    }
   ],
   "source": [
    "dataset = list(zip(latitudes, longitudes))"
   ]
  },
  {
   "cell_type": "code",
   "execution_count": 7,
   "metadata": {
    "collapsed": false
   },
   "outputs": [],
   "source": [
    "import numpy as np\n",
    "import matplotlib.pyplot as plt\n",
    "import random\n",
    "sample_dataset = random.sample(dataset, 4000)\n",
    "sample_latitudes = [sample[0] for sample in sample_dataset]\n",
    "sample_longitudes = [sample[1] for sample in sample_dataset]"
   ]
  },
  {
   "cell_type": "code",
   "execution_count": 4,
   "metadata": {
    "collapsed": false
   },
   "outputs": [
    {
     "data": {
      "image/png": "[encoded data removed]",
      "text/plain": [
       "<matplotlib.figure.Figure at 0x7f9d890cd588>"
      ]
     },
     "metadata": {},
     "output_type": "display_data"
    }
   ],
   "source": [
    "plt.scatter(sample_latitudes, sample_longitudes, s=7)\n",
    "plt.xlabel(\"Latitude\")\n",
    "plt.ylabel(\"Longitude\")\n",
    "plt.show()"
   ]
  },
  {
   "cell_type": "markdown",
   "metadata": {},
   "source": [
    "## Algorithmic part"
   ]
  },
  {
   "cell_type": "markdown",
   "metadata": {},
   "source": [
    "Here we develop several versions of k-centers clustering."
   ]
  },
  {
   "cell_type": "markdown",
   "metadata": {},
   "source": [
    "### Metric definition"
   ]
  },
  {
   "cell_type": "markdown",
   "metadata": {},
   "source": [
    "We define a first naive algorithm for clustering, which is a (2+ϵ)-approximation for k-center, ϵ > 0."
   ]
  },
  {
   "cell_type": "code",
   "execution_count": null,
   "metadata": {
    "collapsed": true
   },
   "outputs": [],
   "source": [
    "id_to_coords = {i : point for i, point in enumerate(dataset)}"
   ]
  },
  {
   "cell_type": "code",
   "execution_count": 51,
   "metadata": {
    "collapsed": false
   },
   "outputs": [],
   "source": [
    "from scipy.spatial.distance import pdist, euclidean\n",
    "\n",
    "def build_cluster(center_id, beta, dataset_ids):\n",
    "    center = id_to_coords[center_id]\n",
    "    cluster_ids = [center_id] # the first id of the cluster will be the id of the center\n",
    "    n = len(dataset_ids)\n",
    "    i = 0\n",
    "    while True:\n",
    "        if i >= len(dataset_ids):\n",
    "            break      \n",
    "            \n",
    "        point_id = dataset_ids[i]\n",
    "       \n",
    "        if point_id != center_id:\n",
    "            distance = euclidean(center, id_to_coords[point_id])\n",
    "            if distance <= 2*beta:\n",
    "                cluster_ids.append(point_id)\n",
    "                dataset_ids.remove(point_id)\n",
    "            else:\n",
    "                i += 1\n",
    "        else:\n",
    "            dataset_ids.remove(point_id)\n",
    "    return cluster_ids, dataset_ids"
   ]
  },
  {
   "cell_type": "code",
   "execution_count": 52,
   "metadata": {
    "collapsed": false
   },
   "outputs": [
    {
     "name": "stdout",
     "output_type": "stream",
     "text": [
      "0  %\n",
      "5  %\n",
      "10  %\n",
      "15  %\n",
      "20  %\n",
      "25  %\n",
      "30  %\n",
      "35  %\n",
      "40  %\n",
      "45  %\n",
      "50  %\n",
      "55  %\n",
      "60  %\n",
      "65  %\n",
      "70  %\n",
      "75  %\n",
      "80  %\n",
      "85  %\n"
     ]
    }
   ],
   "source": [
    "test_cluster, test_dataset = build_cluster(0, 10, list(range(0, 100000)))\n",
    "print(len(test_cluster), len(test_dataset), len(test_cluster)+len(test_dataset))\n",
    "print(len(dataset))"
   ]
  },
  {
   "cell_type": "code",
   "execution_count": 70,
   "metadata": {
    "collapsed": false
   },
   "outputs": [
    {
     "ename": "NameError",
     "evalue": "name 'distances' is not defined",
     "output_type": "error",
     "traceback": [
      "\u001b[0;31m---------------------------------------------------------------------------\u001b[0m",
      "\u001b[0;31mNameError\u001b[0m                                 Traceback (most recent call last)",
      "\u001b[0;32m<ipython-input-70-1bb334161894>\u001b[0m in \u001b[0;36m<module>\u001b[0;34m()\u001b[0m\n\u001b[1;32m      3\u001b[0m \u001b[0mcount_i\u001b[0m \u001b[0;34m=\u001b[0m \u001b[0;36m0\u001b[0m\u001b[0;34m\u001b[0m\u001b[0m\n\u001b[1;32m      4\u001b[0m \u001b[0mcount_j\u001b[0m \u001b[0;34m=\u001b[0m \u001b[0;36m0\u001b[0m\u001b[0;34m\u001b[0m\u001b[0m\n\u001b[0;32m----> 5\u001b[0;31m \u001b[0;32mfor\u001b[0m \u001b[0mi\u001b[0m \u001b[0;32min\u001b[0m \u001b[0mrange\u001b[0m\u001b[0;34m(\u001b[0m\u001b[0;36m0\u001b[0m\u001b[0;34m,\u001b[0m \u001b[0mlen\u001b[0m\u001b[0;34m(\u001b[0m\u001b[0mdistances\u001b[0m\u001b[0;34m)\u001b[0m\u001b[0;34m)\u001b[0m\u001b[0;34m:\u001b[0m\u001b[0;34m\u001b[0m\u001b[0m\n\u001b[0m\u001b[1;32m      6\u001b[0m     \u001b[0mcount_j\u001b[0m \u001b[0;34m+=\u001b[0m \u001b[0;36m1\u001b[0m\u001b[0;34m\u001b[0m\u001b[0m\n\u001b[1;32m      7\u001b[0m     \u001b[0;32mif\u001b[0m \u001b[0mcount_j\u001b[0m \u001b[0;34m==\u001b[0m \u001b[0mn\u001b[0m\u001b[0;34m-\u001b[0m\u001b[0;36m1\u001b[0m\u001b[0;34m:\u001b[0m\u001b[0;34m\u001b[0m\u001b[0m\n",
      "\u001b[0;31mNameError\u001b[0m: name 'distances' is not defined"
     ]
    }
   ],
   "source": [
    "def build_clustering(k, beta, dataset_ids):\n",
    "    clusters = []\n",
    "    for _ in range(0, k):\n",
    "        if not dataset_ids:\n",
    "            break\n",
    "        center_id = random.sample(dataset_ids, 1)\n",
    "        cluster_ids, dataset_ids = build_cluster(center_id, beta, dataset_ids)\n",
    "        clusters.append(cluster_ids)\n",
    "    return clusters"
   ]
  },
  {
   "cell_type": "code",
   "execution_count": 59,
   "metadata": {
    "collapsed": false
   },
   "outputs": [],
   "source": [
    "import numpy as np\n",
    "def max_and_min_dists():\n",
    "    max_dist = 0\n",
    "    min_dist = np.infty\n",
    "    for i in range(0, 1000000-1):\n",
    "        point = id_to_coords[i]\n",
    "        for j in range(i+1, 1000000):\n",
    "            neighbor = id_to_coords[j]\n",
    "            distance = euclidean(point, neighbor)\n",
    "            if distance > max_dist:\n",
    "                max_dist = distance\n",
    "            if distance < min_dist:\n",
    "                min_dist = distance\n",
    "    return max_dist, min_dist"
   ]
  },
  {
   "cell_type": "code",
   "execution_count": null,
   "metadata": {
    "collapsed": false
   },
   "outputs": [],
   "source": [
    "max_dist, min_dist = max_and_min_dists()"
   ]
  },
  {
   "cell_type": "code",
   "execution_count": null,
   "metadata": {
    "collapsed": true
   },
   "outputs": [],
   "source": [
    "from mpl_toolkits.basemap import Basemap\n",
    "import matplotlib.pyplot as plt\n",
    "m = Basemap(projection='lcc', resolution=None)\n",
    "m.bluemarble()\n",
    "plt.show()"
   ]
  }
 ],
 "metadata": {
  "kernelspec": {
   "display_name": "Python 3",
   "language": "python",
   "name": "python3"
  },
  "language_info": {
   "codemirror_mode": {
    "name": "ipython",
    "version": 3
   },
   "file_extension": ".py",
   "mimetype": "text/x-python",
   "name": "python",
   "nbconvert_exporter": "python",
   "pygments_lexer": "ipython3",
   "version": "3.5.2"
  }
 },
 "nbformat": 4,
 "nbformat_minor": 2
}
