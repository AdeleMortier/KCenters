{
 "cells": [
  {
   "cell_type": "markdown",
   "metadata": {},
   "source": [
    "# Fully Dynamic k-center Clustering"
   ]
  },
  {
   "cell_type": "markdown",
   "metadata": {},
   "source": [
    "## Parsing"
   ]
  },
  {
   "cell_type": "markdown",
   "metadata": {},
   "source": [
    "This section has to be runned only once; its role is to parse the data and create a .hdf5 dataset with three fields: one for the timestamp, one for the latitude, one for the longitude. We will use this file in the following sections."
   ]
  },
  {
   "cell_type": "code",
   "execution_count": 1,
   "metadata": {
    "collapsed": false
   },
   "outputs": [],
   "source": [
    "import h5py\n",
    "def parse_input(path):\n",
    "    dataset = h5py.File(\"dataset.hdf5\", \"w\")\n",
    "    timestamps = dataset.create_dataset(\"timestamps\", (1000001,), dtype='i')\n",
    "    latitudes = dataset.create_dataset(\"latitudes\", (1000001,), dtype='f')\n",
    "    longitudes = dataset.create_dataset(\"longitudes\", (1000001,), dtype='f')\n",
    "    f = open(path,'r')\n",
    "    for i, line in enumerate(f):\n",
    "        line = line.split()\n",
    "        timestamps[i] = int(line[0])\n",
    "        latitudes[i] = float(line[1])\n",
    "        longitudes[i] = float(line[2])\n",
    "    dataset.close()"
   ]
  },
  {
   "cell_type": "code",
   "execution_count": 2,
   "metadata": {
    "collapsed": false
   },
   "outputs": [],
   "source": [
    "parse_input('dataset/twitter_1000000.txt')"
   ]
  },
  {
   "cell_type": "code",
   "execution_count": null,
   "metadata": {
    "collapsed": true
   },
   "outputs": [],
   "source": [
    "import h5py\n",
    "f = h5py.File(\"dataset.hdf5\", \"r\")"
   ]
  },
  {
   "cell_type": "code",
   "execution_count": 11,
   "metadata": {
    "collapsed": false
   },
   "outputs": [],
   "source": [
    "timestamps = f['timestamps']\n",
    "latitudes = f['latitudes']\n",
    "longitudes = f['longitudes']"
   ]
  },
  {
   "cell_type": "code",
   "execution_count": null,
   "metadata": {
    "collapsed": false
   },
   "outputs": [],
   "source": [
    "import numpy as np\n",
    "import matplotlib.pyplot as plt\n",
    "import random\n",
    "dataset = list(zip(latitudes, longitudes))\n",
    "sample_dataset = random.sample(dataset, 2000)\n",
    "sample_latitudes = [sample[0] for sample in sample_dataset]\n",
    "sample_longitudes = [sample[1] for sample in sample_dataset]\n",
    "print(sample_dataset[10], sample_latitudes[10], sample_longitudes[10])\n",
    "#plt.scatter(,)\n",
    "plt.show()\n"
   ]
  },
  {
   "cell_type": "code",
   "execution_count": 26,
   "metadata": {
    "collapsed": false
   },
   "outputs": [],
   "source": [
    "from scipy.spatial.distance import pdist\n",
    "# to compute pairwise distances"
   ]
  },
  {
   "cell_type": "code",
   "execution_count": null,
   "metadata": {
    "collapsed": true
   },
   "outputs": [],
   "source": []
  },
  {
   "cell_type": "code",
   "execution_count": 15,
   "metadata": {
    "collapsed": false
   },
   "outputs": [
    {
     "data": {
      "text/plain": [
       "[45, 5, 7]"
      ]
     },
     "execution_count": 15,
     "metadata": {},
     "output_type": "execute_result"
    }
   ],
   "source": [
    "import random\n",
    "l = [[1, 2, 3], [4,  5, 6], [7, 8, 9], [45, 5, 7]]\n",
    "random.choice(l)"
   ]
  },
  {
   "cell_type": "code",
   "execution_count": null,
   "metadata": {
    "collapsed": true
   },
   "outputs": [],
   "source": []
  }
 ],
 "metadata": {
  "kernelspec": {
   "display_name": "Python 3",
   "language": "python",
   "name": "python3"
  },
  "language_info": {
   "codemirror_mode": {
    "name": "ipython",
    "version": 3
   },
   "file_extension": ".py",
   "mimetype": "text/x-python",
   "name": "python",
   "nbconvert_exporter": "python",
   "pygments_lexer": "ipython3",
   "version": "3.5.2"
  }
 },
 "nbformat": 4,
 "nbformat_minor": 2
}
